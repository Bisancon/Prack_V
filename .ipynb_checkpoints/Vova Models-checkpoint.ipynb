{
 "cells": [
  {
   "cell_type": "code",
   "execution_count": 1,
   "id": "c1f604c0-ae88-43f2-b3be-35851a2db77f",
   "metadata": {
    "execution": {
     "iopub.execute_input": "2023-07-29T22:50:02.232509Z",
     "iopub.status.busy": "2023-07-29T22:50:02.232350Z",
     "iopub.status.idle": "2023-07-29T22:50:02.633199Z",
     "shell.execute_reply": "2023-07-29T22:50:02.632750Z",
     "shell.execute_reply.started": "2023-07-29T22:50:02.232492Z"
    },
    "tags": []
   },
   "outputs": [],
   "source": [
    "from sklearn.model_selection import GridSearchCV, train_test_split\n",
    "from sklearn.pipeline import Pipeline\n",
    "from sklearn.compose import ColumnTransformer\n",
    "from sklearn.preprocessing import StandardScaler, OneHotEncoder\n",
    "from sklearn.feature_extraction.text import CountVectorizer\n",
    "from sklearn.linear_model import LinearRegression\n",
    "from sklearn.ensemble import GradientBoostingRegressor, RandomForestRegressor\n",
    "from sklearn.metrics import mean_squared_error"
   ]
  },
  {
   "cell_type": "markdown",
   "id": "40a3bff9-162d-48ee-87f4-40f6fe6fd53b",
   "metadata": {},
   "source": [
    "Модели: Linear Regression, Scikit-learn GB, Random Forest"
   ]
  },
  {
   "cell_type": "markdown",
   "id": "658d7315-f68b-43f7-8b5b-c8eb501bce50",
   "metadata": {},
   "source": [
    "Пайплайн такой: текстовые фичи энкодим CountVectorizer'ом, категориальные - OneHot, числовые заскейлим Standart Scaler'ом"
   ]
  },
  {
   "cell_type": "code",
   "execution_count": 2,
   "id": "45ef2f7d-f05e-40f8-84ce-a61bf16ad51b",
   "metadata": {
    "execution": {
     "iopub.execute_input": "2023-07-29T22:50:02.634300Z",
     "iopub.status.busy": "2023-07-29T22:50:02.634036Z",
     "iopub.status.idle": "2023-07-29T22:50:02.737315Z",
     "shell.execute_reply": "2023-07-29T22:50:02.736841Z",
     "shell.execute_reply.started": "2023-07-29T22:50:02.634287Z"
    },
    "tags": []
   },
   "outputs": [],
   "source": [
    "import pandas"
   ]
  },
  {
   "cell_type": "code",
   "execution_count": 3,
   "id": "4d242502-aab4-4f43-8cf5-7f0f1695c7a3",
   "metadata": {
    "execution": {
     "iopub.execute_input": "2023-07-29T22:50:02.737920Z",
     "iopub.status.busy": "2023-07-29T22:50:02.737790Z",
     "iopub.status.idle": "2023-07-29T22:50:03.601706Z",
     "shell.execute_reply": "2023-07-29T22:50:03.601245Z",
     "shell.execute_reply.started": "2023-07-29T22:50:02.737907Z"
    },
    "tags": []
   },
   "outputs": [],
   "source": [
    "x = pandas.read_excel('../data/train.xlsx', index_col=0)\n",
    "test = pandas.read_excel('../data/test.xlsx', index_col=0)\n",
    "x, y = x.drop(columns=['mean_price']), x['mean_price'] "
   ]
  },
  {
   "cell_type": "code",
   "execution_count": 4,
   "id": "062e9b83-f1a5-4868-b4d7-59954f26bf30",
   "metadata": {
    "execution": {
     "iopub.execute_input": "2023-07-29T22:50:03.602347Z",
     "iopub.status.busy": "2023-07-29T22:50:03.602212Z",
     "iopub.status.idle": "2023-07-29T22:50:03.605164Z",
     "shell.execute_reply": "2023-07-29T22:50:03.604737Z",
     "shell.execute_reply.started": "2023-07-29T22:50:03.602334Z"
    },
    "tags": []
   },
   "outputs": [],
   "source": [
    "categorical_columns = ['предмет', 'tutor_rating', 'status']\n",
    "numerical_columns = ['tutor_reviews', 'experience']\n",
    "columns_to_drop = ['Education_2', \n",
    "                   'Desc_Education_2', \n",
    "                   'Education_3', \n",
    "                   'Desc_Education_3', \n",
    "                   'Education_4', \n",
    "                   'Desc_Education_4', \n",
    "                   'Ученая степень 1', \n",
    "                   'Ученое звание 1',\n",
    "                   'Desc_Education_5',\n",
    "                   'Desc_Education_6',\n",
    "                   'Education_5',\n",
    "                   'Education_6',\n",
    "                   'Ученая степень 2',\n",
    "                   'Ученое звание 2',\n",
    "                   'ФИО']\n",
    "text_columns = ['tutor_head_tags', 'categories', 'description', 'experience_desc']"
   ]
  },
  {
   "cell_type": "code",
   "execution_count": null,
   "id": "a3dab10b-8610-4c62-93c1-f1a94ad6054e",
   "metadata": {
    "tags": []
   },
   "outputs": [],
   "source": [
    "def transform(df):\n",
    "    df = df.drop(columns=columns_to_drop)\n",
    "    df['description'].fillna('', inplace=True)\n",
    "    df['experience_desc'].fillna('            Репетитор не предоставил информацию об опыте работы  ', inplace=True)\n",
    "    df['status'].fillna(df['status'].value_counts().idxmax(), inplace=True)\n",
    "    df['tutor_rating'].fillna(df['tutor_rating'].median(), inplace=True)\n",
    "    df['Desc_Education_1'].fillna('', inplace=True)\n",
    "    df['tutor_rating'] = df['tutor_rating'].apply(int)\n",
    "    df['experience'] = df['experience'].fillna('0')\n",
    "    df['experience'] = df['experience'].apply(lambda x: int(x.split()[0]))\n",
    "    df[categorical_columns] = df[categorical_columns].astype(\"category\")\n",
    "    return df"
   ]
  },
  {
   "cell_type": "code",
   "execution_count": 6,
   "id": "1faaa202-88fb-40f9-b604-c07786e3977b",
   "metadata": {
    "execution": {
     "iopub.execute_input": "2023-07-29T22:50:03.681054Z",
     "iopub.status.busy": "2023-07-29T22:50:03.680694Z",
     "iopub.status.idle": "2023-07-29T22:50:03.742654Z",
     "shell.execute_reply": "2023-07-29T22:50:03.742153Z",
     "shell.execute_reply.started": "2023-07-29T22:50:03.681039Z"
    },
    "tags": []
   },
   "outputs": [],
   "source": [
    "x = transform(x)\n",
    "test = transform(test)"
   ]
  },
  {
   "cell_type": "markdown",
   "id": "ba7292dd-0a3b-4a7e-98bf-28703a2b8488",
   "metadata": {
    "execution": {
     "iopub.execute_input": "2023-07-29T21:02:16.586823Z",
     "iopub.status.busy": "2023-07-29T21:02:16.586663Z",
     "iopub.status.idle": "2023-07-29T21:02:16.595005Z",
     "shell.execute_reply": "2023-07-29T21:02:16.594386Z",
     "shell.execute_reply.started": "2023-07-29T21:02:16.586810Z"
    }
   },
   "source": [
    "# Обучаем"
   ]
  },
  {
   "cell_type": "code",
   "execution_count": 7,
   "id": "ba46a4d5-3398-4e52-8978-3b83fe5758e2",
   "metadata": {
    "execution": {
     "iopub.execute_input": "2023-07-29T22:50:03.744097Z",
     "iopub.status.busy": "2023-07-29T22:50:03.743961Z",
     "iopub.status.idle": "2023-07-29T22:50:03.778202Z",
     "shell.execute_reply": "2023-07-29T22:50:03.777719Z",
     "shell.execute_reply.started": "2023-07-29T22:50:03.744085Z"
    },
    "tags": []
   },
   "outputs": [],
   "source": [
    "X_train, X_val, y_train, y_val = train_test_split(x, y, random_state=42, test_size=0.1)"
   ]
  },
  {
   "cell_type": "code",
   "execution_count": 8,
   "id": "2e41235a-a1b3-423b-adb5-c875a500891c",
   "metadata": {
    "execution": {
     "iopub.execute_input": "2023-07-29T22:50:03.778797Z",
     "iopub.status.busy": "2023-07-29T22:50:03.778670Z",
     "iopub.status.idle": "2023-07-29T22:50:03.825711Z",
     "shell.execute_reply": "2023-07-29T22:50:03.825362Z",
     "shell.execute_reply.started": "2023-07-29T22:50:03.778785Z"
    },
    "tags": []
   },
   "outputs": [],
   "source": [
    "ct = ColumnTransformer([(f\"{col}_text_preprocess\", CountVectorizer(), col) for col in text_columns] +\n",
    "                       [(\"categorical_preprocess\", OneHotEncoder(handle_unknown='infrequent_if_exist'), categorical_columns),\n",
    "                        (\"numerical_columns\", StandardScaler(), numerical_columns)])"
   ]
  },
  {
   "cell_type": "markdown",
   "id": "0598dafa-1fba-421a-a7fa-94bec95d6f3f",
   "metadata": {},
   "source": [
    "## Linear Regression"
   ]
  },
  {
   "cell_type": "code",
   "execution_count": 9,
   "id": "e911bb2f-f0b6-48d4-b094-f54527f80d6d",
   "metadata": {
    "execution": {
     "iopub.execute_input": "2023-07-29T22:50:03.826271Z",
     "iopub.status.busy": "2023-07-29T22:50:03.826148Z",
     "iopub.status.idle": "2023-07-29T22:50:07.741126Z",
     "shell.execute_reply": "2023-07-29T22:50:07.740686Z",
     "shell.execute_reply.started": "2023-07-29T22:50:03.826260Z"
    },
    "tags": []
   },
   "outputs": [
    {
     "name": "stdout",
     "output_type": "stream",
     "text": [
      "LinReg Validation MSE: 486.46878063864347\n"
     ]
    }
   ],
   "source": [
    "pipe = Pipeline(steps=[(\"transformer\", ct), (\"regressor\", LinearRegression())])\n",
    "pipe.fit(X_train, y_train)\n",
    "print('LinReg Validation MSE:', mean_squared_error(y_val, pipe.predict(X_val)))\n",
    "submit = pandas.read_csv('../data/sample_submit.csv', index_col=0)\n",
    "submit['mean_price'] = pipe.predict(test)\n",
    "submit.to_csv(f'LR.csv')"
   ]
  },
  {
   "cell_type": "markdown",
   "id": "596c017d-f274-4d68-9939-27a8c245d630",
   "metadata": {},
   "source": [
    "## Random Forest"
   ]
  },
  {
   "cell_type": "code",
   "execution_count": 10,
   "id": "81cc0778-5659-43f1-827e-66f1d3417f21",
   "metadata": {
    "execution": {
     "iopub.execute_input": "2023-07-29T22:50:07.741747Z",
     "iopub.status.busy": "2023-07-29T22:50:07.741548Z",
     "iopub.status.idle": "2023-07-29T22:50:07.744225Z",
     "shell.execute_reply": "2023-07-29T22:50:07.743849Z",
     "shell.execute_reply.started": "2023-07-29T22:50:07.741735Z"
    },
    "tags": []
   },
   "outputs": [],
   "source": [
    "pipe = Pipeline(steps=[(\"transformer\", ct), (\"regressor\", RandomForestRegressor())])"
   ]
  },
  {
   "cell_type": "code",
   "execution_count": 11,
   "id": "33a6e4cb-c497-4ff5-a4bc-7c36e631c493",
   "metadata": {
    "execution": {
     "iopub.execute_input": "2023-07-29T22:50:07.744794Z",
     "iopub.status.busy": "2023-07-29T22:50:07.744663Z",
     "iopub.status.idle": "2023-07-29T22:50:07.798495Z",
     "shell.execute_reply": "2023-07-29T22:50:07.798096Z",
     "shell.execute_reply.started": "2023-07-29T22:50:07.744778Z"
    },
    "tags": []
   },
   "outputs": [],
   "source": [
    "param_grid = {\n",
    "    \"regressor__n_estimators\": [i for i in range(100,1000+1, 100)],\n",
    "    \"regressor__min_samples_split\": [i for i in range(2,6)],\n",
    "}"
   ]
  },
  {
   "cell_type": "code",
   "execution_count": 12,
   "id": "66c2b163-0924-44db-a55a-06bac35fa8f4",
   "metadata": {
    "execution": {
     "iopub.execute_input": "2023-07-29T22:50:07.799102Z",
     "iopub.status.busy": "2023-07-29T22:50:07.798936Z",
     "iopub.status.idle": "2023-07-29T22:50:07.846268Z",
     "shell.execute_reply": "2023-07-29T22:50:07.845836Z",
     "shell.execute_reply.started": "2023-07-29T22:50:07.799087Z"
    },
    "tags": []
   },
   "outputs": [],
   "source": [
    "from joblib import parallel_backend"
   ]
  },
  {
   "cell_type": "code",
   "execution_count": null,
   "id": "8be07602-be78-4b87-8e87-bea54ba0ec91",
   "metadata": {
    "execution": {
     "iopub.execute_input": "2023-07-29T22:50:07.846874Z",
     "iopub.status.busy": "2023-07-29T22:50:07.846717Z"
    },
    "tags": []
   },
   "outputs": [
    {
     "name": "stdout",
     "output_type": "stream",
     "text": [
      "[CV 1/5; 1/40] START regressor__min_samples_split=2, regressor__n_estimators=100\n",
      "[CV 2/5; 1/40] START regressor__min_samples_split=2, regressor__n_estimators=100\n",
      "[CV 3/5; 1/40] START regressor__min_samples_split=2, regressor__n_estimators=100\n",
      "[CV 4/5; 1/40] START regressor__min_samples_split=2, regressor__n_estimators=100\n",
      "[CV 5/5; 1/40] START regressor__min_samples_split=2, regressor__n_estimators=100\n",
      "[CV 1/5; 2/40] START regressor__min_samples_split=2, regressor__n_estimators=200\n",
      "Fitting 5 folds for each of 40 candidates, totalling 200 fits\n",
      "[CV 3/5; 2/40] START regressor__min_samples_split=2, regressor__n_estimators=200\n",
      "[CV 2/5; 2/40] START regressor__min_samples_split=2, regressor__n_estimators=200\n",
      "[CV 2/5; 1/40] END regressor__min_samples_split=2, regressor__n_estimators=100;, score=0.214 total time= 2.2min\n",
      "[CV 4/5; 2/40] START regressor__min_samples_split=2, regressor__n_estimators=200\n",
      "[CV 5/5; 1/40] END regressor__min_samples_split=2, regressor__n_estimators=100;, score=0.229 total time= 2.2min\n",
      "[CV 5/5; 2/40] START regressor__min_samples_split=2, regressor__n_estimators=200\n",
      "[CV 4/5; 1/40] END regressor__min_samples_split=2, regressor__n_estimators=100;, score=0.268 total time= 2.2min\n",
      "[CV 1/5; 3/40] START regressor__min_samples_split=2, regressor__n_estimators=300\n",
      "[CV 1/5; 1/40] END regressor__min_samples_split=2, regressor__n_estimators=100;, score=0.193 total time= 2.2min\n",
      "[CV 2/5; 3/40] START regressor__min_samples_split=2, regressor__n_estimators=300\n",
      "[CV 3/5; 1/40] END regressor__min_samples_split=2, regressor__n_estimators=100;, score=0.296 total time= 2.2min\n",
      "[CV 3/5; 3/40] START regressor__min_samples_split=2, regressor__n_estimators=300\n",
      "[CV 2/5; 2/40] END regressor__min_samples_split=2, regressor__n_estimators=200;, score=0.212 total time= 4.4min\n",
      "[CV 4/5; 3/40] START regressor__min_samples_split=2, regressor__n_estimators=300\n",
      "[CV 3/5; 2/40] END regressor__min_samples_split=2, regressor__n_estimators=200;, score=0.293 total time= 4.6min\n",
      "[CV 5/5; 3/40] START regressor__min_samples_split=2, regressor__n_estimators=300\n",
      "[CV 1/5; 2/40] END regressor__min_samples_split=2, regressor__n_estimators=200;, score=0.193 total time= 4.6min\n",
      "[CV 1/5; 4/40] START regressor__min_samples_split=2, regressor__n_estimators=400\n",
      "[CV 4/5; 2/40] END regressor__min_samples_split=2, regressor__n_estimators=200;, score=0.272 total time= 4.6min\n",
      "[CV 2/5; 4/40] START regressor__min_samples_split=2, regressor__n_estimators=400\n",
      "[CV 5/5; 2/40] END regressor__min_samples_split=2, regressor__n_estimators=200;, score=0.234 total time= 4.6min\n",
      "[CV 3/5; 4/40] START regressor__min_samples_split=2, regressor__n_estimators=400\n",
      "[CV 2/5; 3/40] END regressor__min_samples_split=2, regressor__n_estimators=300;, score=0.211 total time= 6.8min\n",
      "[CV 4/5; 4/40] START regressor__min_samples_split=2, regressor__n_estimators=400\n",
      "[CV 1/5; 3/40] END regressor__min_samples_split=2, regressor__n_estimators=300;, score=0.192 total time= 7.0min\n",
      "[CV 5/5; 4/40] START regressor__min_samples_split=2, regressor__n_estimators=400\n",
      "[CV 3/5; 3/40] END regressor__min_samples_split=2, regressor__n_estimators=300;, score=0.295 total time= 7.0min\n",
      "[CV 1/5; 5/40] START regressor__min_samples_split=2, regressor__n_estimators=500\n",
      "[CV 4/5; 3/40] END regressor__min_samples_split=2, regressor__n_estimators=300;, score=0.275 total time= 6.9min\n",
      "[CV 2/5; 5/40] START regressor__min_samples_split=2, regressor__n_estimators=500\n",
      "[CV 5/5; 3/40] END regressor__min_samples_split=2, regressor__n_estimators=300;, score=0.231 total time= 6.9min\n",
      "[CV 3/5; 5/40] START regressor__min_samples_split=2, regressor__n_estimators=500\n",
      "[CV 1/5; 4/40] END regressor__min_samples_split=2, regressor__n_estimators=400;, score=0.195 total time= 9.3min\n",
      "[CV 4/5; 5/40] START regressor__min_samples_split=2, regressor__n_estimators=500\n",
      "[CV 2/5; 4/40] END regressor__min_samples_split=2, regressor__n_estimators=400;, score=0.218 total time= 9.0min\n",
      "[CV 5/5; 5/40] START regressor__min_samples_split=2, regressor__n_estimators=500\n",
      "[CV 3/5; 4/40] END regressor__min_samples_split=2, regressor__n_estimators=400;, score=0.299 total time= 9.3min\n",
      "[CV 1/5; 6/40] START regressor__min_samples_split=2, regressor__n_estimators=600\n",
      "[CV 4/5; 4/40] END regressor__min_samples_split=2, regressor__n_estimators=400;, score=0.281 total time= 9.2min\n",
      "[CV 2/5; 6/40] START regressor__min_samples_split=2, regressor__n_estimators=600\n",
      "[CV 5/5; 4/40] END regressor__min_samples_split=2, regressor__n_estimators=400;, score=0.230 total time= 9.2min\n",
      "[CV 3/5; 6/40] START regressor__min_samples_split=2, regressor__n_estimators=600\n",
      "[CV 1/5; 5/40] END regressor__min_samples_split=2, regressor__n_estimators=500;, score=0.191 total time=11.6min\n",
      "[CV 4/5; 6/40] START regressor__min_samples_split=2, regressor__n_estimators=600\n",
      "[CV 2/5; 5/40] END regressor__min_samples_split=2, regressor__n_estimators=500;, score=0.218 total time=11.3min\n",
      "[CV 5/5; 6/40] START regressor__min_samples_split=2, regressor__n_estimators=600\n",
      "[CV 3/5; 5/40] END regressor__min_samples_split=2, regressor__n_estimators=500;, score=0.299 total time=11.6min\n",
      "[CV 1/5; 7/40] START regressor__min_samples_split=2, regressor__n_estimators=700\n",
      "[CV 4/5; 5/40] END regressor__min_samples_split=2, regressor__n_estimators=500;, score=0.277 total time=11.6min\n",
      "[CV 2/5; 7/40] START regressor__min_samples_split=2, regressor__n_estimators=700\n",
      "[CV 5/5; 5/40] END regressor__min_samples_split=2, regressor__n_estimators=500;, score=0.233 total time=11.5min\n",
      "[CV 3/5; 7/40] START regressor__min_samples_split=2, regressor__n_estimators=700\n",
      "[CV 1/5; 6/40] END regressor__min_samples_split=2, regressor__n_estimators=600;, score=0.186 total time=13.9min\n",
      "[CV 4/5; 7/40] START regressor__min_samples_split=2, regressor__n_estimators=700\n",
      "[CV 2/5; 6/40] END regressor__min_samples_split=2, regressor__n_estimators=600;, score=0.216 total time=13.6min\n",
      "[CV 5/5; 7/40] START regressor__min_samples_split=2, regressor__n_estimators=700\n",
      "[CV 3/5; 6/40] END regressor__min_samples_split=2, regressor__n_estimators=600;, score=0.300 total time=14.0min\n",
      "[CV 1/5; 8/40] START regressor__min_samples_split=2, regressor__n_estimators=800\n",
      "[CV 4/5; 6/40] END regressor__min_samples_split=2, regressor__n_estimators=600;, score=0.275 total time=13.8min\n",
      "[CV 2/5; 8/40] START regressor__min_samples_split=2, regressor__n_estimators=800\n",
      "[CV 5/5; 6/40] END regressor__min_samples_split=2, regressor__n_estimators=600;, score=0.235 total time=13.8min\n",
      "[CV 3/5; 8/40] START regressor__min_samples_split=2, regressor__n_estimators=800\n",
      "[CV 1/5; 7/40] END regressor__min_samples_split=2, regressor__n_estimators=700;, score=0.188 total time=16.3min\n",
      "[CV 4/5; 8/40] START regressor__min_samples_split=2, regressor__n_estimators=800\n",
      "[CV 2/5; 7/40] END regressor__min_samples_split=2, regressor__n_estimators=700;, score=0.216 total time=15.8min\n",
      "[CV 5/5; 8/40] START regressor__min_samples_split=2, regressor__n_estimators=800\n",
      "[CV 3/5; 7/40] END regressor__min_samples_split=2, regressor__n_estimators=700;, score=0.299 total time=16.2min\n",
      "[CV 1/5; 9/40] START regressor__min_samples_split=2, regressor__n_estimators=900\n",
      "[CV 4/5; 7/40] END regressor__min_samples_split=2, regressor__n_estimators=700;, score=0.275 total time=16.1min\n",
      "[CV 2/5; 9/40] START regressor__min_samples_split=2, regressor__n_estimators=900\n",
      "[CV 5/5; 7/40] END regressor__min_samples_split=2, regressor__n_estimators=700;, score=0.235 total time=16.2min\n",
      "[CV 3/5; 9/40] START regressor__min_samples_split=2, regressor__n_estimators=900\n",
      "[CV 1/5; 8/40] END regressor__min_samples_split=2, regressor__n_estimators=800;, score=0.193 total time=18.6min\n",
      "[CV 4/5; 9/40] START regressor__min_samples_split=2, regressor__n_estimators=900\n",
      "[CV 2/5; 8/40] END regressor__min_samples_split=2, regressor__n_estimators=800;, score=0.214 total time=18.1min\n",
      "[CV 5/5; 9/40] START regressor__min_samples_split=2, regressor__n_estimators=900\n",
      "[CV 3/5; 8/40] END regressor__min_samples_split=2, regressor__n_estimators=800;, score=0.302 total time=18.5min\n",
      "[CV 1/5; 10/40] START regressor__min_samples_split=2, regressor__n_estimators=1000\n",
      "[CV 4/5; 8/40] END regressor__min_samples_split=2, regressor__n_estimators=800;, score=0.274 total time=18.4min\n",
      "[CV 2/5; 10/40] START regressor__min_samples_split=2, regressor__n_estimators=1000\n",
      "[CV 5/5; 8/40] END regressor__min_samples_split=2, regressor__n_estimators=800;, score=0.233 total time=18.5min\n",
      "[CV 3/5; 10/40] START regressor__min_samples_split=2, regressor__n_estimators=1000\n",
      "[CV 1/5; 9/40] END regressor__min_samples_split=2, regressor__n_estimators=900;, score=0.197 total time=20.9min\n",
      "[CV 4/5; 10/40] START regressor__min_samples_split=2, regressor__n_estimators=1000\n",
      "[CV 2/5; 9/40] END regressor__min_samples_split=2, regressor__n_estimators=900;, score=0.213 total time=20.5min\n",
      "[CV 5/5; 10/40] START regressor__min_samples_split=2, regressor__n_estimators=1000\n",
      "[CV 3/5; 9/40] END regressor__min_samples_split=2, regressor__n_estimators=900;, score=0.302 total time=21.0min\n",
      "[CV 1/5; 11/40] START regressor__min_samples_split=3, regressor__n_estimators=100\n",
      "[CV 1/5; 11/40] END regressor__min_samples_split=3, regressor__n_estimators=100;, score=0.198 total time= 2.0min\n",
      "[CV 2/5; 11/40] START regressor__min_samples_split=3, regressor__n_estimators=100\n",
      "[CV 4/5; 9/40] END regressor__min_samples_split=2, regressor__n_estimators=900;, score=0.273 total time=20.8min\n",
      "[CV 3/5; 11/40] START regressor__min_samples_split=3, regressor__n_estimators=100\n",
      "[CV 2/5; 11/40] END regressor__min_samples_split=3, regressor__n_estimators=100;, score=0.203 total time= 1.9min\n",
      "[CV 4/5; 11/40] START regressor__min_samples_split=3, regressor__n_estimators=100\n",
      "[CV 5/5; 9/40] END regressor__min_samples_split=2, regressor__n_estimators=900;, score=0.233 total time=20.7min\n",
      "[CV 5/5; 11/40] START regressor__min_samples_split=3, regressor__n_estimators=100\n",
      "[CV 3/5; 11/40] END regressor__min_samples_split=3, regressor__n_estimators=100;, score=0.301 total time= 2.0min\n",
      "[CV 1/5; 12/40] START regressor__min_samples_split=3, regressor__n_estimators=200\n",
      "[CV 4/5; 11/40] END regressor__min_samples_split=3, regressor__n_estimators=100;, score=0.269 total time= 2.0min\n",
      "[CV 2/5; 12/40] START regressor__min_samples_split=3, regressor__n_estimators=200\n",
      "[CV 5/5; 11/40] END regressor__min_samples_split=3, regressor__n_estimators=100;, score=0.228 total time= 2.0min\n",
      "[CV 3/5; 12/40] START regressor__min_samples_split=3, regressor__n_estimators=200\n",
      "[CV 1/5; 12/40] END regressor__min_samples_split=3, regressor__n_estimators=200;, score=0.195 total time= 4.0min\n",
      "[CV 4/5; 12/40] START regressor__min_samples_split=3, regressor__n_estimators=200\n",
      "[CV 1/5; 10/40] END regressor__min_samples_split=2, regressor__n_estimators=1000;, score=0.196 total time=23.2min\n",
      "[CV 5/5; 12/40] START regressor__min_samples_split=3, regressor__n_estimators=200\n",
      "[CV 2/5; 12/40] END regressor__min_samples_split=3, regressor__n_estimators=200;, score=0.215 total time= 3.9min\n",
      "[CV 1/5; 13/40] START regressor__min_samples_split=3, regressor__n_estimators=300\n",
      "[CV 3/5; 12/40] END regressor__min_samples_split=3, regressor__n_estimators=200;, score=0.295 total time= 4.1min\n",
      "[CV 2/5; 13/40] START regressor__min_samples_split=3, regressor__n_estimators=300\n"
     ]
    }
   ],
   "source": [
    "search = GridSearchCV(pipe, param_grid, n_jobs=-1,  verbose=10, refit=True)\n",
    "with parallel_backend('multiprocessing'):\n",
    "    search.fit(X_train, y_train)\n",
    "print(\"Best parameter (CV score=%0.3f):\" % search.best_score_)\n",
    "print(search.best_params_)\n",
    "print('RF Validation MSE:', mean_squared_error(y_val, search.predict(X_val)))\n",
    "submit = pandas.read_csv('../data/sample_submit.csv', index_col=0)\n",
    "submit['mean_price'] = search.predict(test)\n",
    "submit.to_csv(f'RF.csv')"
   ]
  },
  {
   "cell_type": "markdown",
   "id": "ef6198ab-c8fa-4ada-82bc-ac97999bd42c",
   "metadata": {},
   "source": [
    "## Gradient Boosting"
   ]
  },
  {
   "cell_type": "code",
   "execution_count": null,
   "id": "d3e8ab3a-a8bb-4e2b-95a5-843418338365",
   "metadata": {},
   "outputs": [],
   "source": [
    "import numpy as np"
   ]
  },
  {
   "cell_type": "code",
   "execution_count": null,
   "id": "333a7e96-98b5-4469-a92c-8f10c6a942a4",
   "metadata": {},
   "outputs": [],
   "source": [
    "pipe = Pipeline(steps=[(\"transformer\", ct), (\"regressor\", GradientBoostingRegressor())])\n",
    "param_grid = {\n",
    "    \"regressor__n_estimators\": [i for i in range(100,1000+1, 100)],\n",
    "    \"regressor__learning_rate\": np.arange(1e-4, 1e-2, 5e-4),\n",
    "    \"regressor__min_samples_split\": [i for i in range(2,6)],\n",
    "}"
   ]
  },
  {
   "cell_type": "code",
   "execution_count": null,
   "id": "93c35ce4-20c5-4e7c-a3ca-cd1b96686d24",
   "metadata": {
    "tags": []
   },
   "outputs": [],
   "source": [
    "search = GridSearchCV(pipe, param_grid, n_jobs=-1,  verbose=10, refit=True)\n",
    "with parallel_backend('multiprocessing'):\n",
    "    search.fit(X_train, y_train)\n",
    "print(\"Best parameter (CV score=%0.3f):\" % search.best_score_)\n",
    "print(search.best_params_)\n",
    "print('GB Validation MSE:', mean_squared_error(y_val, search.predict(X_val)))\n"
   ]
  },
  {
   "cell_type": "code",
   "execution_count": null,
   "id": "6029fabe-ba1c-4fbd-ae01-55fd3ff0cf7f",
   "metadata": {},
   "outputs": [],
   "source": [
    "submit = pandas.read_csv('../data/sample_submit.csv', index_col=0)\n",
    "submit['mean_price'] = search.predict(test)\n",
    "submit.to_csv(f'GB.csv')"
   ]
  },
  {
   "cell_type": "code",
   "execution_count": null,
   "id": "83450301-051a-4044-bc98-907b205270ae",
   "metadata": {},
   "outputs": [],
   "source": []
  }
 ],
 "metadata": {
  "kernelspec": {
   "display_name": "Python 3 (ipykernel)",
   "language": "python",
   "name": "python3"
  },
  "language_info": {
   "codemirror_mode": {
    "name": "ipython",
    "version": 3
   },
   "file_extension": ".py",
   "mimetype": "text/x-python",
   "name": "python",
   "nbconvert_exporter": "python",
   "pygments_lexer": "ipython3",
   "version": "3.10.6"
  }
 },
 "nbformat": 4,
 "nbformat_minor": 5
}
