{
 "cells": [
  {
   "cell_type": "code",
   "execution_count": 1,
   "id": "5e1f8c22-4709-4a14-a4f6-4c9f978150ee",
   "metadata": {
    "execution": {
     "iopub.execute_input": "2023-07-30T00:09:06.500148Z",
     "iopub.status.busy": "2023-07-30T00:09:06.499955Z",
     "iopub.status.idle": "2023-07-30T00:09:08.339874Z",
     "shell.execute_reply": "2023-07-30T00:09:08.339221Z",
     "shell.execute_reply.started": "2023-07-30T00:09:06.500128Z"
    },
    "tags": []
   },
   "outputs": [],
   "source": [
    "import pandas\n",
    "train = pandas.read_excel('./data/train.xlsx', index_col=0)"
   ]
  },
  {
   "cell_type": "markdown",
   "id": "a3a70957-25b8-44a8-b070-dde34b615eeb",
   "metadata": {
    "execution": {
     "iopub.execute_input": "2023-07-29T23:56:07.572939Z",
     "iopub.status.busy": "2023-07-29T23:56:07.572661Z",
     "iopub.status.idle": "2023-07-29T23:56:07.575860Z",
     "shell.execute_reply": "2023-07-29T23:56:07.575273Z",
     "shell.execute_reply.started": "2023-07-29T23:56:07.572919Z"
    }
   },
   "source": [
    "### Сколько у человека образования:"
   ]
  },
  {
   "cell_type": "code",
   "execution_count": 2,
   "id": "e05ab2a4-3eb9-4dff-a85d-41ddd6c60a40",
   "metadata": {
    "execution": {
     "iopub.execute_input": "2023-07-30T00:09:08.341884Z",
     "iopub.status.busy": "2023-07-30T00:09:08.341411Z",
     "iopub.status.idle": "2023-07-30T00:09:08.907805Z",
     "shell.execute_reply": "2023-07-30T00:09:08.907204Z",
     "shell.execute_reply.started": "2023-07-30T00:09:08.341862Z"
    },
    "tags": []
   },
   "outputs": [
    {
     "data": {
      "text/plain": [
       "<Axes: >"
      ]
     },
     "execution_count": 2,
     "metadata": {},
     "output_type": "execute_result"
    },
    {
     "data": {
      "image/png": "[encoded data removed]",
      "text/plain": [
       "<Figure size 640x480 with 1 Axes>"
      ]
     },
     "metadata": {},
     "output_type": "display_data"
    }
   ],
   "source": [
    "train[['Education_1', 'Education_2', 'Education_3', 'Education_4', 'Education_5', 'Education_6']].notna().astype(int).sum(axis=1).hist()"
   ]
  },
  {
   "cell_type": "markdown",
   "id": "88b8761c-5a67-4bf8-876b-d2e11a5add5d",
   "metadata": {
    "execution": {
     "iopub.execute_input": "2023-07-29T23:36:24.803278Z",
     "iopub.status.busy": "2023-07-29T23:36:24.802993Z",
     "iopub.status.idle": "2023-07-29T23:36:24.807050Z",
     "shell.execute_reply": "2023-07-29T23:36:24.806303Z",
     "shell.execute_reply.started": "2023-07-29T23:36:24.803258Z"
    }
   },
   "source": [
    "### Посмотрим на пропуски"
   ]
  },
  {
   "cell_type": "code",
   "execution_count": 3,
   "id": "28a4a1c6-4fc8-4ac2-aae9-8acc4729e65d",
   "metadata": {
    "execution": {
     "iopub.execute_input": "2023-07-30T00:09:08.927443Z",
     "iopub.status.busy": "2023-07-30T00:09:08.910709Z",
     "iopub.status.idle": "2023-07-30T00:09:08.969603Z",
     "shell.execute_reply": "2023-07-30T00:09:08.969067Z",
     "shell.execute_reply.started": "2023-07-30T00:09:08.927412Z"
    },
    "tags": []
   },
   "outputs": [
    {
     "data": {
      "text/plain": [
       "предмет              0.000000\n",
       "ФИО                  0.000000\n",
       "tutor_head_tags      0.000000\n",
       "tutor_rating        12.950748\n",
       "tutor_reviews        0.000000\n",
       "description          0.021988\n",
       "experience_desc     52.264732\n",
       "Education_1          0.000000\n",
       "Desc_Education_1     1.671064\n",
       "Education_2         82.827617\n",
       "Desc_Education_2    82.915567\n",
       "Education_3         97.669305\n",
       "Desc_Education_3    97.691293\n",
       "Education_4         99.648197\n",
       "Desc_Education_4    99.648197\n",
       "Ученая степень 1    98.328936\n",
       "Ученое звание 1     99.230431\n",
       "status               0.285840\n",
       "experience           0.549692\n",
       "Desc_Education_5    99.934037\n",
       "Desc_Education_6    99.978012\n",
       "Education_5         99.934037\n",
       "Education_6         99.978012\n",
       "Ученая степень 2    99.978012\n",
       "Ученое звание 2     99.978012\n",
       "categories           0.000000\n",
       "mean_price           0.000000\n",
       "dtype: float64"
      ]
     },
     "execution_count": 3,
     "metadata": {},
     "output_type": "execute_result"
    }
   ],
   "source": [
    "(train.isna().sum() / len(train))*100"
   ]
  },
  {
   "cell_type": "markdown",
   "id": "2a2e899e-6d7a-4991-9882-bca8cf7e26bd",
   "metadata": {},
   "source": [
    "Удалим колонки, в которых пропусков больше 80%"
   ]
  },
  {
   "cell_type": "code",
   "execution_count": 4,
   "id": "cfac80b9-0219-43e4-8589-ffcc503377cd",
   "metadata": {
    "execution": {
     "iopub.execute_input": "2023-07-30T00:09:08.974159Z",
     "iopub.status.busy": "2023-07-30T00:09:08.972431Z",
     "iopub.status.idle": "2023-07-30T00:09:09.076681Z",
     "shell.execute_reply": "2023-07-30T00:09:09.076101Z",
     "shell.execute_reply.started": "2023-07-30T00:09:08.974132Z"
    },
    "tags": []
   },
   "outputs": [],
   "source": [
    "for column in train.columns:\n",
    "    if (train[column].isna().sum() / len(train))*100 > 80:\n",
    "        train = train.drop(columns=column)"
   ]
  },
  {
   "cell_type": "code",
   "execution_count": 5,
   "id": "67b561d9-bffc-4d42-8640-75f8555615c4",
   "metadata": {
    "execution": {
     "iopub.execute_input": "2023-07-30T00:09:09.082326Z",
     "iopub.status.busy": "2023-07-30T00:09:09.082124Z",
     "iopub.status.idle": "2023-07-30T00:09:09.116999Z",
     "shell.execute_reply": "2023-07-30T00:09:09.116427Z",
     "shell.execute_reply.started": "2023-07-30T00:09:09.082308Z"
    },
    "tags": []
   },
   "outputs": [
    {
     "data": {
      "text/plain": [
       "предмет              0.000000\n",
       "ФИО                  0.000000\n",
       "tutor_head_tags      0.000000\n",
       "tutor_rating        12.950748\n",
       "tutor_reviews        0.000000\n",
       "description          0.021988\n",
       "experience_desc     52.264732\n",
       "Education_1          0.000000\n",
       "Desc_Education_1     1.671064\n",
       "status               0.285840\n",
       "experience           0.549692\n",
       "categories           0.000000\n",
       "mean_price           0.000000\n",
       "dtype: float64"
      ]
     },
     "execution_count": 5,
     "metadata": {},
     "output_type": "execute_result"
    }
   ],
   "source": [
    "(train.isna().sum() / len(train))*100"
   ]
  },
  {
   "cell_type": "markdown",
   "id": "a768dbfc-d133-4fc2-9951-7454b93d011d",
   "metadata": {
    "execution": {
     "iopub.execute_input": "2023-07-29T23:37:46.020951Z",
     "iopub.status.busy": "2023-07-29T23:37:46.020686Z",
     "iopub.status.idle": "2023-07-29T23:37:46.025649Z",
     "shell.execute_reply": "2023-07-29T23:37:46.024830Z",
     "shell.execute_reply.started": "2023-07-29T23:37:46.020929Z"
    }
   },
   "source": [
    "Заполнять будем: числа медианами, а строки - пустыми строками. Статус заполним самым частым"
   ]
  },
  {
   "cell_type": "code",
   "execution_count": 6,
   "id": "df7cb029-71d0-4734-b23a-a7d4c011ec4f",
   "metadata": {
    "execution": {
     "iopub.execute_input": "2023-07-30T00:09:09.118496Z",
     "iopub.status.busy": "2023-07-30T00:09:09.118290Z",
     "iopub.status.idle": "2023-07-30T00:09:09.145422Z",
     "shell.execute_reply": "2023-07-30T00:09:09.144855Z",
     "shell.execute_reply.started": "2023-07-30T00:09:09.118477Z"
    },
    "tags": []
   },
   "outputs": [
    {
     "data": {
      "text/plain": [
       "array([' Университетский преподаватель', ' Школьный преподаватель',\n",
       "       ' Частный преподаватель', ' Студент',\n",
       "       ' Аспирант или ординатор очной формы обучения', nan,\n",
       "       ' Университетский преподаватель, Школьный преподаватель',\n",
       "       ' Аспирант или ординатор очной формы обучения, Частный преподаватель',\n",
       "       ' Частный преподаватель, Студент',\n",
       "       ' Университетский преподаватель, Аспирант или ординатор очной формы обучения',\n",
       "       ' Школьный преподаватель, Аспирант или ординатор очной формы обучения'],\n",
       "      dtype=object)"
      ]
     },
     "execution_count": 6,
     "metadata": {},
     "output_type": "execute_result"
    }
   ],
   "source": [
    "train.status.unique()"
   ]
  },
  {
   "cell_type": "markdown",
   "id": "941553db-e7b0-48d2-b17e-da87f0630a38",
   "metadata": {
    "execution": {
     "iopub.execute_input": "2023-07-29T23:42:19.694719Z",
     "iopub.status.busy": "2023-07-29T23:42:19.694437Z",
     "iopub.status.idle": "2023-07-29T23:42:19.698401Z",
     "shell.execute_reply": "2023-07-29T23:42:19.697673Z",
     "shell.execute_reply.started": "2023-07-29T23:42:19.694698Z"
    }
   },
   "source": [
    "### Распределение таргета"
   ]
  },
  {
   "cell_type": "code",
   "execution_count": 7,
   "id": "af9a36e5-6339-4b65-914f-3ba9dce324a3",
   "metadata": {
    "execution": {
     "iopub.execute_input": "2023-07-30T00:09:10.920850Z",
     "iopub.status.busy": "2023-07-30T00:09:10.920615Z",
     "iopub.status.idle": "2023-07-30T00:09:11.371572Z",
     "shell.execute_reply": "2023-07-30T00:09:11.370933Z",
     "shell.execute_reply.started": "2023-07-30T00:09:10.920830Z"
    },
    "tags": []
   },
   "outputs": [
    {
     "data": {
      "text/plain": [
       "<Axes: >"
      ]
     },
     "execution_count": 7,
     "metadata": {},
     "output_type": "execute_result"
    },
    {
     "data": {
      "image/png": "[encoded data removed]",
      "text/plain": [
       "<Figure size 640x480 with 1 Axes>"
      ]
     },
     "metadata": {},
     "output_type": "display_data"
    }
   ],
   "source": [
    "train.mean_price.hist(bins=60)"
   ]
  },
  {
   "cell_type": "markdown",
   "id": "e1b0da49-02b1-43e8-8640-a74a7b4d9dab",
   "metadata": {
    "execution": {
     "iopub.execute_input": "2023-07-29T23:44:38.486267Z",
     "iopub.status.busy": "2023-07-29T23:44:38.485898Z",
     "iopub.status.idle": "2023-07-29T23:44:38.490428Z",
     "shell.execute_reply": "2023-07-29T23:44:38.489616Z",
     "shell.execute_reply.started": "2023-07-29T23:44:38.486245Z"
    }
   },
   "source": [
    "Распределение хорошее, балансировать выборку не буду"
   ]
  },
  {
   "cell_type": "markdown",
   "id": "02ae9071-4ed6-4cb2-a622-5acd7217fdc4",
   "metadata": {},
   "source": [
    "### Опыт преподавания"
   ]
  },
  {
   "cell_type": "code",
   "execution_count": 8,
   "id": "77328100-b775-45ad-b1c8-f048d5896330",
   "metadata": {
    "execution": {
     "iopub.execute_input": "2023-07-30T00:09:13.720614Z",
     "iopub.status.busy": "2023-07-30T00:09:13.720321Z",
     "iopub.status.idle": "2023-07-30T00:09:13.729258Z",
     "shell.execute_reply": "2023-07-30T00:09:13.728638Z",
     "shell.execute_reply.started": "2023-07-30T00:09:13.720592Z"
    },
    "tags": []
   },
   "outputs": [],
   "source": [
    "train['experience'] = train['experience'].fillna('0')\n",
    "train['experience'] = train['experience'].apply(lambda x: int(x.split()[0]))"
   ]
  },
  {
   "cell_type": "code",
   "execution_count": 9,
   "id": "45b69adb-a97d-4814-8a72-5e67d171e343",
   "metadata": {
    "execution": {
     "iopub.execute_input": "2023-07-30T00:09:14.117188Z",
     "iopub.status.busy": "2023-07-30T00:09:14.116903Z",
     "iopub.status.idle": "2023-07-30T00:09:14.431876Z",
     "shell.execute_reply": "2023-07-30T00:09:14.431216Z",
     "shell.execute_reply.started": "2023-07-30T00:09:14.117167Z"
    },
    "tags": []
   },
   "outputs": [
    {
     "data": {
      "text/plain": [
       "<Axes: >"
      ]
     },
     "execution_count": 9,
     "metadata": {},
     "output_type": "execute_result"
    },
    {
     "data": {
      "image/png": "[encoded data removed]",
      "text/plain": [
       "<Figure size 640x480 with 1 Axes>"
      ]
     },
     "metadata": {},
     "output_type": "display_data"
    }
   ],
   "source": [
    "train['experience'].hist()"
   ]
  },
  {
   "cell_type": "markdown",
   "id": "ca5a5377-55f1-479c-bae0-6d39195afeff",
   "metadata": {},
   "source": [
    "у большинства опыта нет."
   ]
  },
  {
   "cell_type": "markdown",
   "id": "eade0dc3-e7f7-49d5-898d-e3628f83ca80",
   "metadata": {},
   "source": [
    "### Рейтинг"
   ]
  },
  {
   "cell_type": "code",
   "execution_count": 10,
   "id": "6ca0d28b-6f33-4fca-b915-3b522ba04a84",
   "metadata": {
    "execution": {
     "iopub.execute_input": "2023-07-30T00:09:15.496931Z",
     "iopub.status.busy": "2023-07-30T00:09:15.496649Z",
     "iopub.status.idle": "2023-07-30T00:09:15.716844Z",
     "shell.execute_reply": "2023-07-30T00:09:15.716264Z",
     "shell.execute_reply.started": "2023-07-30T00:09:15.496910Z"
    },
    "tags": []
   },
   "outputs": [
    {
     "data": {
      "text/plain": [
       "<Axes: >"
      ]
     },
     "execution_count": 10,
     "metadata": {},
     "output_type": "execute_result"
    },
    {
     "data": {
      "image/png": "[encoded data removed]",
      "text/plain": [
       "<Figure size 640x480 with 1 Axes>"
      ]
     },
     "metadata": {},
     "output_type": "display_data"
    }
   ],
   "source": [
    "train.tutor_rating.hist()"
   ]
  },
  {
   "cell_type": "markdown",
   "id": "17a0bbaf-870a-4ea6-a6d6-4e2e384e4f29",
   "metadata": {},
   "source": [
    "### Количество отзывов"
   ]
  },
  {
   "cell_type": "code",
   "execution_count": 11,
   "id": "5b7f7eb6-4c19-4c15-b67c-0791817e5373",
   "metadata": {
    "execution": {
     "iopub.execute_input": "2023-07-30T00:09:16.441278Z",
     "iopub.status.busy": "2023-07-30T00:09:16.441042Z",
     "iopub.status.idle": "2023-07-30T00:09:16.763884Z",
     "shell.execute_reply": "2023-07-30T00:09:16.763213Z",
     "shell.execute_reply.started": "2023-07-30T00:09:16.441257Z"
    },
    "tags": []
   },
   "outputs": [
    {
     "data": {
      "text/plain": [
       "<Axes: >"
      ]
     },
     "execution_count": 11,
     "metadata": {},
     "output_type": "execute_result"
    },
    {
     "data": {
      "image/png": "[encoded data removed]",
      "text/plain": [
       "<Figure size 640x480 with 1 Axes>"
      ]
     },
     "metadata": {},
     "output_type": "display_data"
    }
   ],
   "source": [
    "train.tutor_reviews.hist()"
   ]
  },
  {
   "cell_type": "markdown",
   "id": "844bdfca-538c-4fdc-9a8f-06c4fddc4d98",
   "metadata": {
    "execution": {
     "iopub.execute_input": "2023-07-29T23:59:23.628982Z",
     "iopub.status.busy": "2023-07-29T23:59:23.628699Z",
     "iopub.status.idle": "2023-07-29T23:59:23.632975Z",
     "shell.execute_reply": "2023-07-29T23:59:23.632200Z",
     "shell.execute_reply.started": "2023-07-29T23:59:23.628961Z"
    }
   },
   "source": [
    "у многих нет отзывов и 0 рейтинг"
   ]
  },
  {
   "cell_type": "markdown",
   "id": "7b941191-b715-4f90-8f2f-89001dd1a85a",
   "metadata": {},
   "source": [
    "### ЗАполнение nanoв"
   ]
  },
  {
   "cell_type": "code",
   "execution_count": 14,
   "id": "4d19b6f0-ce20-4c8c-8ffe-66310606f2a4",
   "metadata": {
    "execution": {
     "iopub.execute_input": "2023-07-30T00:09:40.768252Z",
     "iopub.status.busy": "2023-07-30T00:09:40.767975Z",
     "iopub.status.idle": "2023-07-30T00:09:40.788624Z",
     "shell.execute_reply": "2023-07-30T00:09:40.788046Z",
     "shell.execute_reply.started": "2023-07-30T00:09:40.768232Z"
    },
    "tags": []
   },
   "outputs": [],
   "source": [
    "train['description'].fillna('', inplace=True)\n",
    "train['experience_desc'].fillna('            Репетитор не предоставил информацию об опыте работы  ', inplace=True)\n",
    "train['status'].fillna(train['status'].value_counts().idxmax(), inplace=True)\n",
    "train['tutor_rating'].fillna(train['tutor_rating'].median(), inplace=True)\n",
    "train['Desc_Education_1'].fillna('', inplace=True)\n",
    "train['tutor_rating'] = train['tutor_rating'].apply(int)"
   ]
  },
  {
   "cell_type": "code",
   "execution_count": 15,
   "id": "7ec97c15-8a33-45da-928e-db7198647c11",
   "metadata": {
    "execution": {
     "iopub.execute_input": "2023-07-30T00:09:42.467057Z",
     "iopub.status.busy": "2023-07-30T00:09:42.466823Z",
     "iopub.status.idle": "2023-07-30T00:09:42.493355Z",
     "shell.execute_reply": "2023-07-30T00:09:42.492757Z",
     "shell.execute_reply.started": "2023-07-30T00:09:42.467037Z"
    },
    "tags": []
   },
   "outputs": [
    {
     "data": {
      "text/plain": [
       "предмет             0.0\n",
       "ФИО                 0.0\n",
       "tutor_head_tags     0.0\n",
       "tutor_rating        0.0\n",
       "tutor_reviews       0.0\n",
       "description         0.0\n",
       "experience_desc     0.0\n",
       "Education_1         0.0\n",
       "Desc_Education_1    0.0\n",
       "status              0.0\n",
       "experience          0.0\n",
       "categories          0.0\n",
       "mean_price          0.0\n",
       "dtype: float64"
      ]
     },
     "execution_count": 15,
     "metadata": {},
     "output_type": "execute_result"
    }
   ],
   "source": [
    "(train.isna().sum() / len(train))*100"
   ]
  }
 ],
 "metadata": {
  "kernelspec": {
   "display_name": "Python 3 (ipykernel)",
   "language": "python",
   "name": "python3"
  },
  "language_info": {
   "codemirror_mode": {
    "name": "ipython",
    "version": 3
   },
   "file_extension": ".py",
   "mimetype": "text/x-python",
   "name": "python",
   "nbconvert_exporter": "python",
   "pygments_lexer": "ipython3",
   "version": "3.10.6"
  }
 },
 "nbformat": 4,
 "nbformat_minor": 5
}
